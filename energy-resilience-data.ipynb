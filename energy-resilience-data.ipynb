{
 "cells": [
  {
   "cell_type": "code",
   "execution_count": null,
   "id": "65e15da7",
   "metadata": {},
   "outputs": [],
   "source": [
    "import pandas as pd\n",
    "\n",
    "df = pd.read_csv(\"usa.csv\", dtype={\"GEOID10\": \"string\"})"
   ]
  },
  {
   "cell_type": "code",
   "execution_count": null,
   "id": "fd53ec03",
   "metadata": {},
   "outputs": [],
   "source": [
    "print(df)"
   ]
  },
  {
   "cell_type": "code",
   "execution_count": null,
   "id": "9d2aeb9d",
   "metadata": {},
   "outputs": [],
   "source": [
    "zdf = pd.read_csv(\"geocorr-zips.csv\")"
   ]
  },
  {
   "cell_type": "code",
   "execution_count": null,
   "id": "687d139e",
   "metadata": {},
   "outputs": [],
   "source": [
    "print(zdf)"
   ]
  },
  {
   "cell_type": "code",
   "execution_count": null,
   "id": "000621fc",
   "metadata": {},
   "outputs": [],
   "source": [
    "zdf[\"cbgid\"]"
   ]
  },
  {
   "cell_type": "code",
   "execution_count": null,
   "id": "276d1c50",
   "metadata": {},
   "outputs": [],
   "source": [
    "zdf[\"cbgid\"] = zdf[\"county\"]\n"
   ]
  },
  {
   "cell_type": "code",
   "execution_count": null,
   "id": "73017ee9",
   "metadata": {},
   "outputs": [],
   "source": [
    "print(zdf)"
   ]
  },
  {
   "cell_type": "code",
   "execution_count": null,
   "id": "8808b17e",
   "metadata": {},
   "outputs": [],
   "source": [
    "zdf[\"cbgid\"] = zdf[\"county\"]+zdf[\"tract\"]+zdf[\"bg\"]\n",
    "zdf[\"cbgid\"] = zdf[\"cbgid\"].str.replace('.','')"
   ]
  },
  {
   "cell_type": "code",
   "execution_count": null,
   "id": "931217da",
   "metadata": {},
   "outputs": [],
   "source": [
    "print(zdf)\n"
   ]
  },
  {
   "cell_type": "code",
   "execution_count": null,
   "id": "22802592",
   "metadata": {},
   "outputs": [],
   "source": [
    "zdf['GEOID10'] = zdf['cbgid']"
   ]
  },
  {
   "cell_type": "code",
   "execution_count": null,
   "id": "4a54927f",
   "metadata": {},
   "outputs": [],
   "source": [
    "print(zdf)"
   ]
  },
  {
   "cell_type": "code",
   "execution_count": null,
   "id": "0f5d4392",
   "metadata": {},
   "outputs": [],
   "source": [
    "df_merge_col = pd.merge(df, zdf, on='GEOID10')"
   ]
  },
  {
   "cell_type": "code",
   "execution_count": null,
   "id": "782ea576",
   "metadata": {},
   "outputs": [],
   "source": [
    "print(df_merge_col)"
   ]
  },
  {
   "cell_type": "code",
   "execution_count": null,
   "id": "698bf8bf",
   "metadata": {},
   "outputs": [],
   "source": [
    "df_merge_col.to_csv('ct_cbgs.csv')"
   ]
  },
  {
   "cell_type": "code",
   "execution_count": null,
   "id": "ec68e158",
   "metadata": {},
   "outputs": [],
   "source": []
  }
 ],
 "metadata": {
  "kernelspec": {
   "display_name": "Python 3",
   "language": "python",
   "name": "python3"
  },
  "language_info": {
   "codemirror_mode": {
    "name": "ipython",
    "version": 3
   },
   "file_extension": ".py",
   "mimetype": "text/x-python",
   "name": "python",
   "nbconvert_exporter": "python",
   "pygments_lexer": "ipython3",
   "version": "3.9.5"
  }
 },
 "nbformat": 4,
 "nbformat_minor": 5
}
